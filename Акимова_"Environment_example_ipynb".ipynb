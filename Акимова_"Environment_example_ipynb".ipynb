{
  "nbformat": 4,
  "nbformat_minor": 0,
  "metadata": {
    "colab": {
      "provenance": [],
      "include_colab_link": true
    },
    "kernelspec": {
      "name": "python3",
      "display_name": "Python 3"
    },
    "language_info": {
      "name": "python"
    }
  },
  "cells": [
    {
      "cell_type": "markdown",
      "metadata": {
        "id": "view-in-github",
        "colab_type": "text"
      },
      "source": [
        "<a href=\"https://colab.research.google.com/github/Alsweire/MIFILabs/blob/main/%D0%90%D0%BA%D0%B8%D0%BC%D0%BE%D0%B2%D0%B0_%22Environment_example_ipynb%22.ipynb\" target=\"_parent\"><img src=\"https://colab.research.google.com/assets/colab-badge.svg\" alt=\"Open In Colab\"/></a>"
      ]
    },
    {
      "cell_type": "code",
      "execution_count": null,
      "metadata": {
        "id": "MXXTuy_o0sjk",
        "colab": {
          "base_uri": "https://localhost:8080/"
        },
        "outputId": "4d7ecc17-dfa6-4bb4-ee51-8adae101cda2"
      },
      "outputs": [
        {
          "output_type": "stream",
          "name": "stdout",
          "text": [
            "\u001b[?25l     \u001b[90m━━━━━━━━━━━━━━━━━━━━━━━━━━━━━━━━━━━━━━━━\u001b[0m \u001b[32m0.0/134.1 kB\u001b[0m \u001b[31m?\u001b[0m eta \u001b[36m-:--:--\u001b[0m\r\u001b[2K     \u001b[90m━━━━━━━━━━━━━━━━━━━━━━━━━━━━━━━━━━━━━━━━\u001b[0m \u001b[32m134.1/134.1 kB\u001b[0m \u001b[31m3.6 MB/s\u001b[0m eta \u001b[36m0:00:00\u001b[0m\n",
            "\u001b[?25h  Preparing metadata (setup.py) ... \u001b[?25l\u001b[?25hdone\n",
            "\u001b[2K   \u001b[90m━━━━━━━━━━━━━━━━━━━━━━━━━━━━━━━━━━━━━━━━\u001b[0m \u001b[32m1.3/1.3 MB\u001b[0m \u001b[31m4.2 MB/s\u001b[0m eta \u001b[36m0:00:00\u001b[0m\n",
            "\u001b[2K   \u001b[90m━━━━━━━━━━━━━━━━━━━━━━━━━━━━━━━━━━━━━━━━\u001b[0m \u001b[32m953.8/953.8 kB\u001b[0m \u001b[31m22.7 MB/s\u001b[0m eta \u001b[36m0:00:00\u001b[0m\n",
            "\u001b[2K   \u001b[90m━━━━━━━━━━━━━━━━━━━━━━━━━━━━━━━━━━━━━━━━\u001b[0m \u001b[32m840.2/840.2 kB\u001b[0m \u001b[31m25.8 MB/s\u001b[0m eta \u001b[36m0:00:00\u001b[0m\n",
            "\u001b[2K   \u001b[90m━━━━━━━━━━━━━━━━━━━━━━━━━━━━━━━━━━━━━━━━\u001b[0m \u001b[32m178.7/178.7 kB\u001b[0m \u001b[31m3.9 MB/s\u001b[0m eta \u001b[36m0:00:00\u001b[0m\n",
            "\u001b[?25h  Building wheel for vec-noise (setup.py) ... \u001b[?25l\u001b[?25hdone\n"
          ]
        }
      ],
      "source": [
        "!pip install -q -U kaggle_environments"
      ]
    },
    {
      "cell_type": "code",
      "source": [
        "import numpy as np\n",
        "import pandas as pd\n",
        "import random\n",
        "\n",
        "import matplotlib.pyplot as plt\n",
        "import seaborn as sns\n",
        "\n",
        "from kaggle_environments import make, evaluate, utils"
      ],
      "metadata": {
        "id": "yz23vWHD0wcj",
        "colab": {
          "base_uri": "https://localhost:8080/"
        },
        "outputId": "bc92b9ec-a3f8-43d5-a442-3e02304c202a"
      },
      "execution_count": null,
      "outputs": [
        {
          "output_type": "stream",
          "name": "stderr",
          "text": [
            "/usr/local/lib/python3.10/dist-packages/ipykernel/ipkernel.py:283: DeprecationWarning: `should_run_async` will not call `transform_cell` automatically in the future. Please pass the result to `transformed_cell` argument and any exception that happen during thetransform in `preprocessing_exc_tuple` in IPython 7.17 and above.\n",
            "  and should_run_async(code)\n"
          ]
        }
      ]
    },
    {
      "cell_type": "code",
      "source": [
        "%%writefile rock_agent.py\n",
        "\n",
        "#Example of the simple agent\n",
        "#0 - rock\n",
        "#1 - paper\n",
        "#2 - scissors\n",
        "# Определяем простого агента, который всегда выбирает 'камень'\n",
        "def rock_agent(observation, configuration):\n",
        "    return 0"
      ],
      "metadata": {
        "id": "bqTqV7B92rJ6",
        "colab": {
          "base_uri": "https://localhost:8080/"
        },
        "outputId": "8b0e63df-e093-4691-855d-edae6eb1cfc3"
      },
      "execution_count": null,
      "outputs": [
        {
          "output_type": "stream",
          "name": "stdout",
          "text": [
            "Overwriting rock_agent.py\n"
          ]
        },
        {
          "output_type": "stream",
          "name": "stderr",
          "text": [
            "/usr/local/lib/python3.10/dist-packages/ipykernel/ipkernel.py:283: DeprecationWarning: `should_run_async` will not call `transform_cell` automatically in the future. Please pass the result to `transformed_cell` argument and any exception that happen during thetransform in `preprocessing_exc_tuple` in IPython 7.17 and above.\n",
            "  and should_run_async(code)\n"
          ]
        }
      ]
    },
    {
      "cell_type": "code",
      "source": [
        "%%writefile paper_agent.py\n",
        "# Определяем простого агента, который всегда выбирает 'бумагу'\n",
        "def paper_agent(observation, configuration):\n",
        "  return 1"
      ],
      "metadata": {
        "colab": {
          "base_uri": "https://localhost:8080/"
        },
        "id": "1Csl7za721BV",
        "outputId": "0030c468-2ce7-4061-9df1-d62c829b0763"
      },
      "execution_count": null,
      "outputs": [
        {
          "output_type": "stream",
          "name": "stdout",
          "text": [
            "Writing paper_agent.py\n"
          ]
        },
        {
          "output_type": "stream",
          "name": "stderr",
          "text": [
            "/usr/local/lib/python3.10/dist-packages/ipykernel/ipkernel.py:283: DeprecationWarning: `should_run_async` will not call `transform_cell` automatically in the future. Please pass the result to `transformed_cell` argument and any exception that happen during thetransform in `preprocessing_exc_tuple` in IPython 7.17 and above.\n",
            "  and should_run_async(code)\n"
          ]
        }
      ]
    },
    {
      "cell_type": "code",
      "source": [
        "%%writefile scissor_agent.py\n",
        "# Определяем простого агента, который всегда выбирает 'ножницы'\n",
        "def scissor_agent(observation, configuration):\n",
        "  return 2"
      ],
      "metadata": {
        "colab": {
          "base_uri": "https://localhost:8080/"
        },
        "id": "pvfLfWlD3nzU",
        "outputId": "1b9def6a-5a77-436e-f86f-87b0035ec7b2"
      },
      "execution_count": null,
      "outputs": [
        {
          "output_type": "stream",
          "name": "stdout",
          "text": [
            "Writing scissor_agent.py\n"
          ]
        },
        {
          "output_type": "stream",
          "name": "stderr",
          "text": [
            "/usr/local/lib/python3.10/dist-packages/ipykernel/ipkernel.py:283: DeprecationWarning: `should_run_async` will not call `transform_cell` automatically in the future. Please pass the result to `transformed_cell` argument and any exception that happen during thetransform in `preprocessing_exc_tuple` in IPython 7.17 and above.\n",
            "  and should_run_async(code)\n"
          ]
        }
      ]
    },
    {
      "cell_type": "code",
      "source": [
        "%%writefile copy_opponent.py\n",
        "\n",
        "# Определяем агента, который копирует последний ход соперника\n",
        "def copy_opponent(observation, configuration):\n",
        "     # Если это не первый ход, возвращаем последний ход соперника\n",
        "    if observation.step > 0:\n",
        "        return observation.lastOpponentAction\n",
        "    # Если это первый ход, по умолчанию выбираем 'камень'\n",
        "    else:\n",
        "        return 0"
      ],
      "metadata": {
        "id": "7l6Ttw6qi0jk",
        "colab": {
          "base_uri": "https://localhost:8080/"
        },
        "outputId": "d58c9a97-2016-45aa-e3e6-e0375af5d1c3"
      },
      "execution_count": null,
      "outputs": [
        {
          "output_type": "stream",
          "name": "stdout",
          "text": [
            "Overwriting copy_opponent.py\n"
          ]
        },
        {
          "output_type": "stream",
          "name": "stderr",
          "text": [
            "/usr/local/lib/python3.10/dist-packages/ipykernel/ipkernel.py:283: DeprecationWarning: `should_run_async` will not call `transform_cell` automatically in the future. Please pass the result to `transformed_cell` argument and any exception that happen during thetransform in `preprocessing_exc_tuple` in IPython 7.17 and above.\n",
            "  and should_run_async(code)\n"
          ]
        }
      ]
    },
    {
      "cell_type": "code",
      "source": [
        "%%writefile nash_equilibrium.py\n",
        "import random\n",
        "def nash_equilibrium(observation, configuration):\n",
        "  return random.randint(0, 2)  # Случайно выбираем между 'камнем', 'бумагой' или 'ножницами'"
      ],
      "metadata": {
        "colab": {
          "base_uri": "https://localhost:8080/"
        },
        "id": "VrSM_aYe3wl4",
        "outputId": "ca05e357-e578-4b77-bf1b-112bbc6e7f5d"
      },
      "execution_count": null,
      "outputs": [
        {
          "output_type": "stream",
          "name": "stdout",
          "text": [
            "Overwriting nash_equilibrium.py\n"
          ]
        }
      ]
    },
    {
      "cell_type": "code",
      "source": [
        "%%writefile mirror_shift_opponent_1.py\n",
        "# Определяем агента, который сдвигает последний ход соперника на 1\n",
        "def mirror_shift_opponent_agent_1(observation, configuration):\n",
        "    if observation.step > 0:\n",
        "        return (observation.lastOpponentAction + 1) % 3\n",
        "    else:\n",
        "        return 0"
      ],
      "metadata": {
        "colab": {
          "base_uri": "https://localhost:8080/"
        },
        "id": "sUl7bBJJ4M_H",
        "outputId": "f06eb1a7-8414-4b5c-9d8e-bbc0f197373f"
      },
      "execution_count": null,
      "outputs": [
        {
          "output_type": "stream",
          "name": "stdout",
          "text": [
            "Writing mirror_shift_opponent_1.py\n"
          ]
        }
      ]
    },
    {
      "cell_type": "code",
      "source": [
        "%%writefile mirror_shift_opponent_2.py\n",
        "# Определяем агента, который сдвигает последний ход соперника на 2\n",
        "def mirror_shift_opponent_agent_2(observation, configuration):\n",
        "    if observation.step > 0:\n",
        "        return (observation.lastOpponentAction + 2) % 3\n",
        "    else:\n",
        "        return 0"
      ],
      "metadata": {
        "colab": {
          "base_uri": "https://localhost:8080/"
        },
        "id": "7c9KabRC4WJ4",
        "outputId": "67830387-299a-4a62-ddfa-6e715f05187b"
      },
      "execution_count": null,
      "outputs": [
        {
          "output_type": "stream",
          "name": "stdout",
          "text": [
            "Writing mirror_shift_opponent_2.py\n"
          ]
        }
      ]
    },
    {
      "cell_type": "code",
      "source": [
        "%%writefile mirror_shift_1.py\n",
        "# Инициализация глобальной переменной для действия\n",
        "action = 0\n",
        "\n",
        "# Определяем агента, который сдвигает свой последний ход на 1\n",
        "def mirror_shift_agent_1(observation, configuration):\n",
        "    global action\n",
        "    if observation.step > 0:\n",
        "      action = (action + 1) % 3\n",
        "\n",
        "    return action"
      ],
      "metadata": {
        "colab": {
          "base_uri": "https://localhost:8080/"
        },
        "id": "zoNBk7kJ4ap2",
        "outputId": "25ba32ba-ec8b-4463-d938-0cd5715774d7"
      },
      "execution_count": null,
      "outputs": [
        {
          "output_type": "stream",
          "name": "stdout",
          "text": [
            "Overwriting mirror_shift_1.py\n"
          ]
        },
        {
          "output_type": "stream",
          "name": "stderr",
          "text": [
            "/usr/local/lib/python3.10/dist-packages/ipykernel/ipkernel.py:283: DeprecationWarning: `should_run_async` will not call `transform_cell` automatically in the future. Please pass the result to `transformed_cell` argument and any exception that happen during thetransform in `preprocessing_exc_tuple` in IPython 7.17 and above.\n",
            "  and should_run_async(code)\n"
          ]
        }
      ]
    },
    {
      "cell_type": "code",
      "source": [
        "%%writefile mirror_shift_2.py\n",
        "# Инициализация глобальной переменной для действия\n",
        "action = 0\n",
        "\n",
        "# Определяем агента, который сдвигает свой последний ход на 2\n",
        "def mirror_shift_agent_2(observation, configuration):\n",
        "    global action\n",
        "    if observation.step > 0:\n",
        "      action = (action + 2) % 3\n",
        "    return action"
      ],
      "metadata": {
        "colab": {
          "base_uri": "https://localhost:8080/"
        },
        "id": "j3lnnfiz4qdS",
        "outputId": "59454a96-2e92-47e7-d060-e75318f78164"
      },
      "execution_count": null,
      "outputs": [
        {
          "output_type": "stream",
          "name": "stdout",
          "text": [
            "Overwriting mirror_shift_2.py\n"
          ]
        },
        {
          "output_type": "stream",
          "name": "stderr",
          "text": [
            "/usr/local/lib/python3.10/dist-packages/ipykernel/ipkernel.py:283: DeprecationWarning: `should_run_async` will not call `transform_cell` automatically in the future. Please pass the result to `transformed_cell` argument and any exception that happen during thetransform in `preprocessing_exc_tuple` in IPython 7.17 and above.\n",
            "  and should_run_async(code)\n"
          ]
        }
      ]
    },
    {
      "cell_type": "code",
      "source": [
        "%%writefile imitating_human.py\n",
        "\n",
        "from random import randint\n",
        "action = 0\n",
        "\n",
        "#В случае победы или ничьи повторяем свое последнее действие, в случае проигрыша - выбрасываем любое другое (т.е. если проиграли, выбросив бумагу, то бросаем или камень, или ножницы)\n",
        "# Функция для определения результата раунда\n",
        "def get_outcome(action, opponent_action):\n",
        "    if action == ((opponent_action + 1) % 3):\n",
        "        outcome = 1   # Победа\n",
        "    elif opponent_action == ((action + 1) % 3):\n",
        "        outcome = -1   # Поражение\n",
        "    else:\n",
        "        outcome = 0  # Ничья\n",
        "    return outcome\n",
        "\n",
        "# Определяем агента, который имитирует поведение человека\n",
        "def imitating_human_agent(observation, configuration):\n",
        "    global action\n",
        "    if observation.step == 0:\n",
        "        action = randint(0, 2) # Случайно выбираем действие на первом ходу\n",
        "    else:\n",
        "        previous_outcome = get_outcome(action, observation.lastOpponentAction)\n",
        "        if previous_outcome == -1:\n",
        "            action = observation.lastOpponentAction # Если проиграли, копируем последний ход соперника\n",
        "    return action"
      ],
      "metadata": {
        "colab": {
          "base_uri": "https://localhost:8080/"
        },
        "id": "dOaNYD_i_lZp",
        "outputId": "c0edf8b9-7b75-49ec-fab4-9b8d438cf9c5"
      },
      "execution_count": null,
      "outputs": [
        {
          "output_type": "stream",
          "name": "stdout",
          "text": [
            "Overwriting imitating_human.py\n"
          ]
        },
        {
          "output_type": "stream",
          "name": "stderr",
          "text": [
            "/usr/local/lib/python3.10/dist-packages/ipykernel/ipkernel.py:283: DeprecationWarning: `should_run_async` will not call `transform_cell` automatically in the future. Please pass the result to `transformed_cell` argument and any exception that happen during thetransform in `preprocessing_exc_tuple` in IPython 7.17 and above.\n",
            "  and should_run_async(code)\n"
          ]
        }
      ]
    },
    {
      "cell_type": "code",
      "source": [
        "%%writefile transition_matrix.py\n",
        "\n",
        "import numpy as np\n",
        "import pandas as pd\n",
        "import random\n",
        "\n",
        "# Инициализация матриц переходов и вероятностей\n",
        "T = np.zeros((3, 3))\n",
        "P = np.zeros((3, 3))\n",
        "\n",
        "# action_opponent_1 : действие соперника за 1 шаг до текущего\n",
        "# action_opponent_2 : действие соперника за 2 шага до текущего\n",
        "action_opponent_1, action_opponent_2 = None, None\n",
        "\n",
        "# Агент, использующий матрицу переходов для предсказания\n",
        "def transition_matrix_agent(observation, configuration):\n",
        "    global T, P, action_opponent_1, action_opponent_2\n",
        "    if observation.step > 1:\n",
        "      # Обновление действий соперника\n",
        "        action_opponent_1 = observation.lastOpponentAction\n",
        "        T[action_opponent_2, action_opponent_1] += 1\n",
        "        # Обновление матрицы вероятностей\n",
        "        P = np.divide(T, np.maximum(1, T.sum(axis=1)).reshape(-1, 1))\n",
        "        action_opponent_2 = action_opponent_1\n",
        "        # Если сумма вероятностей равна 1, выбираем действие на основе вероятностей\n",
        "        if np.sum(P[action_opponent_1, :]) == 1:\n",
        "            return int((np.random.choice(\n",
        "                [0, 1, 2],\n",
        "                p=P[action_opponent_1, :]\n",
        "            ) + 1) % 3)\n",
        "        else:\n",
        "            return int(np.random.randint(3))\n",
        "\n",
        "    else:\n",
        "        if observation.step == 1:\n",
        "            action_opponent_2 = observation.lastOpponentAction\n",
        "        return int(np.random.randint(3))"
      ],
      "metadata": {
        "colab": {
          "base_uri": "https://localhost:8080/"
        },
        "id": "0iy5zcYC4sUK",
        "outputId": "1ed3d519-cc2c-4d1a-8eb5-6906e07dfed6"
      },
      "execution_count": null,
      "outputs": [
        {
          "output_type": "stream",
          "name": "stdout",
          "text": [
            "Overwriting transition_matrix.py\n"
          ]
        },
        {
          "output_type": "stream",
          "name": "stderr",
          "text": [
            "/usr/local/lib/python3.10/dist-packages/ipykernel/ipkernel.py:283: DeprecationWarning: `should_run_async` will not call `transform_cell` automatically in the future. Please pass the result to `transformed_cell` argument and any exception that happen during thetransform in `preprocessing_exc_tuple` in IPython 7.17 and above.\n",
            "  and should_run_async(code)\n"
          ]
        }
      ]
    },
    {
      "cell_type": "code",
      "source": [
        "%%writefile beat_a_human.py\n",
        "\n",
        "# В случае победы - использовать последний ход оппонента\n",
        "# В случае проигрыша - выбрать то, что одолело бы оппонента в его предыдущий ход\n",
        "# В случае ничьей - рандомно выбрать следующий шаг\n",
        "\n",
        "from random import randint\n",
        "action = 0\n",
        "# Функция для определения результата раунда\n",
        "def get_outcome(action, opponent_action):\n",
        "    if action == ((opponent_action + 1) % 3):\n",
        "        outcome = 1   # Победа\n",
        "    elif opponent_action == ((action + 1) % 3):\n",
        "        outcome = -1   # Поражение\n",
        "    else:\n",
        "        outcome = 0  # Ничья\n",
        "    return outcome\n",
        "\n",
        "# Агент, который пытается обыграть человека\n",
        "def beat_a_human_agent(observation, configuration):\n",
        "    global action\n",
        "    if observation.step == 0:\n",
        "        action = randint(0, 2) # Случайный выбор на первом шаге\n",
        "    else:\n",
        "        previous_outcome = get_outcome(action, observation.lastOpponentAction)\n",
        "        if previous_outcome == -1:\n",
        "           # Если проиграли, выбираем действие, которое побьет последнее действие соперника\n",
        "            action = list({0,1,2} - {action, observation.lastOpponentAction})[0]\n",
        "        elif previous_outcome == 1:\n",
        "          # Если выиграли, повторяем действие соперника\n",
        "            action = observation.lastOpponentAction\n",
        "        else:\n",
        "          # В случае ничьи, выбираем случайное действие\n",
        "            action = randint(0, 2)\n",
        "    return action"
      ],
      "metadata": {
        "colab": {
          "base_uri": "https://localhost:8080/"
        },
        "id": "U-_OXkB-8No3",
        "outputId": "7c70dcba-c8bd-40ad-b864-6dc80046d201"
      },
      "execution_count": null,
      "outputs": [
        {
          "output_type": "stream",
          "name": "stdout",
          "text": [
            "Writing beat_a_human.py\n"
          ]
        }
      ]
    },
    {
      "cell_type": "code",
      "source": [
        "%%writefile markov_chain_agent.py\n",
        "# Класс для предсказания на основе цепи Маркова\n",
        "from collections import defaultdict\n",
        "\n",
        "class MarkovChainPredictor:\n",
        "    def __init__(self):\n",
        "        self.transitions = defaultdict(lambda: {'0': 0, '1': 0, '2': 0})\n",
        "\n",
        "    def update(self, last_move, current_move):\n",
        "        \"\"\"Update with the last move and the current move.\"\"\"\n",
        "        self.transitions[last_move][current_move] += 1\n",
        "\n",
        "    def predict(self, last_move):\n",
        "        \"\"\"Predict based on the last move.\"\"\"\n",
        "        if last_move in self.transitions:\n",
        "            return max(self.transitions[last_move], key=self.transitions[last_move].get)\n",
        "        else:\n",
        "            return '0'\n",
        "\n",
        "# Инициализация предсказателя на основе цепи Маркова\n",
        "markov_predictor = MarkovChainPredictor()\n",
        "action = 0\n",
        "\n",
        "# Агент, использующий предсказания цепи Маркова\n",
        "def markov_chain_agent(observation, configuration):\n",
        "  global action\n",
        "  global markov_predictor\n",
        "  if observation.step == 0:\n",
        "    return 0\n",
        "  else:\n",
        "    markov_predictor.update(str(observation.lastOpponentAction), str(action))\n",
        "    predicted_move = markov_predictor.predict(str(observation.lastOpponentAction))\n",
        "    if predicted_move == '0':\n",
        "      action = 1\n",
        "    elif predicted_move == '1':\n",
        "      action = 2\n",
        "    else:\n",
        "      action = 0\n",
        "    return action"
      ],
      "metadata": {
        "colab": {
          "base_uri": "https://localhost:8080/"
        },
        "id": "kk5EQdVx0ccD",
        "outputId": "c7c1d10e-9418-453b-b753-9fa75fb5bf4b"
      },
      "execution_count": null,
      "outputs": [
        {
          "output_type": "stream",
          "name": "stdout",
          "text": [
            "Overwriting markov_chain_agent.py\n"
          ]
        }
      ]
    },
    {
      "cell_type": "code",
      "source": [
        "import math\n",
        "# Список агентов\n",
        "agents = [\n",
        "    \"rock_agent.py\",\n",
        "    \"paper_agent.py\",\n",
        "    \"scissor_agent.py\",\n",
        "    \"copy_opponent.py\",\n",
        "    \"nash_equilibrium.py\",\n",
        "    \"mirror_shift_opponent_1.py\",\n",
        "    \"mirror_shift_opponent_2.py\",\n",
        "    \"mirror_shift_1.py\",\n",
        "    \"mirror_shift_2.py\",\n",
        "    \"transition_matrix.py\",\n",
        "    \"imitating_human.py\",\n",
        "    \"beat_a_human.py\",\n",
        "    \"markov_chain_agent.py\"\n",
        "]\n",
        "\n",
        "# Создание среды для игры\n",
        "env = make(\"rps\", configuration={\"episodeSteps\": 100})\n",
        "# Список для хранения результатов\n",
        "results = []\n",
        "\n",
        "# Оценка каждого агента против всех остальных\n",
        "for i in range(len(agents)):\n",
        "    for j in range(i+1, len(agents)):\n",
        "        eval_result = evaluate(\"rps\", [agents[i], agents[j]], configuration={\"episodeSteps\": 100})\n",
        "        results.append({\n",
        "            \"agent1\": f\"{agents[i][:-3]}\",\n",
        "            \"agent2\": f\"{agents[j][:-3]}\",\n",
        "            \"score1\": eval_result[0][0],\n",
        "            \"score2\": eval_result[0][1]\n",
        "        })\n",
        "\n",
        "# Создание DataFrame с результатами\n",
        "df = pd.DataFrame(results)\n",
        "agent_scores = {}\n",
        "\n",
        "# Подсчет общего счета для каждого агента\n",
        "for i in range(len(agents)):\n",
        "    agent_name = f\"{agents[i][:-3]}\"\n",
        "    score_as_1 = df[df['agent1'] == agent_name]['score1'].sum()\n",
        "    score_as_2 = df[df['agent2'] == agent_name]['score2'].sum()\n",
        "    agent_scores[agent_name] = score_as_1 + score_as_2\n",
        "\n",
        "# Создание и сортировка таблицы с результатами\n",
        "dashboard = pd.DataFrame.from_dict(agent_scores, orient='index', columns=['Total Score'])\n",
        "dashboard = dashboard.sort_values('Total Score', ascending=False)\n",
        "dashboard = dashboard.reset_index()\n",
        "dashboard.columns = ['Agent', 'Total Score']\n",
        "dashboard['Rank'] = range(1, len(dashboard) + 1)\n",
        "\n",
        "# Вывод таблицы с результатами\n",
        "print(dashboard)"
      ],
      "metadata": {
        "colab": {
          "base_uri": "https://localhost:8080/"
        },
        "id": "cJeApiwtERYb",
        "outputId": "07457797-009b-41ef-ab52-b883fb49e9f9"
      },
      "execution_count": null,
      "outputs": [
        {
          "output_type": "stream",
          "name": "stdout",
          "text": [
            "                      Agent  Total Score  Rank\n",
            "0         transition_matrix        713.0     1\n",
            "1           imitating_human        151.0     2\n",
            "2   mirror_shift_opponent_1        146.0     3\n",
            "3              beat_a_human         27.0     4\n",
            "4            mirror_shift_1          6.0     5\n",
            "5             copy_opponent          1.0     6\n",
            "6          nash_equilibrium          0.0     7\n",
            "7        markov_chain_agent         -3.0     8\n",
            "8                rock_agent       -194.0     9\n",
            "9            mirror_shift_2       -194.0    10\n",
            "10            scissor_agent       -198.0    11\n",
            "11              paper_agent       -216.0    12\n",
            "12  mirror_shift_opponent_2       -239.0    13\n"
          ]
        }
      ]
    }
  ]
}